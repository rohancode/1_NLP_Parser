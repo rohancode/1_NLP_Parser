{
 "cells": [
  {
   "cell_type": "markdown",
   "metadata": {},
   "source": [
    "1.1 Importing python libraries"
   ]
  },
  {
   "cell_type": "code",
   "execution_count": 1,
   "metadata": {
    "collapsed": true
   },
   "outputs": [],
   "source": [
    "import pandas as pd\n",
    "import numpy as np\n",
    "\n",
    "import nltk\n",
    "from nltk.tree import Tree,ParentedTree \n",
    "from nltk.parse import stanford\n",
    "\n",
    "import os\n",
    "import pickle\n",
    "\n",
    "import matplotlib\n",
    "import matplotlib.pyplot as plt\n",
    "from matplotlib import gridspec\n",
    "%matplotlib inline"
   ]
  },
  {
   "cell_type": "markdown",
   "metadata": {},
   "source": [
    "1.2 Importing work files"
   ]
  },
  {
   "cell_type": "code",
   "execution_count": 2,
   "metadata": {
    "collapsed": true
   },
   "outputs": [],
   "source": [
    "# Please make sure you working files are in same folder where this python notebook is, else change the path accordingly.\n",
    "text_file = open(\"wsj.22.mrg.text\", \"r\")\n",
    "gold_parser = open(\"wsj.22.mrg.gold\", \"r\")\n",
    "barkely_parser = open(\"wsj.22.mrg.berkeley\", \"r\")\n",
    "\n",
    "lines = text_file.readlines()\n",
    "gold_lines = gold_parser.readlines()\n",
    "barkely_lines = barkely_parser.readlines()"
   ]
  },
  {
   "cell_type": "markdown",
   "metadata": {},
   "source": [
    "1.3 Defining function which locates the index span of tree node"
   ]
  },
  {
   "cell_type": "code",
   "execution_count": 3,
   "metadata": {
    "collapsed": true
   },
   "outputs": [],
   "source": [
    "def local_indexer(tree, root_tree, tree_left_index, tree_right_index):\n",
    "    \n",
    "    if tree.height()==root_tree.height():\n",
    "        return tree_left_index, tree_right_index\n",
    "    \n",
    "    else:\n",
    "        tree_left_index.insert(0, tree.parent_index())\n",
    "        tree_right_index.insert(0, tree.parent_index())\n",
    "        local_indexer(tree.parent(), root_tree, tree_left_index, tree_right_index)\n",
    "        return tree_left_index, tree_right_index       "
   ]
  },
  {
   "cell_type": "markdown",
   "metadata": {},
   "source": [
    "1.4 Defining function which gives the position of word in sentence, given its tree index"
   ]
  },
  {
   "cell_type": "code",
   "execution_count": 4,
   "metadata": {
    "collapsed": true
   },
   "outputs": [],
   "source": [
    "def local_positioner(tree, position_index):\n",
    "    \n",
    "    leaves = tree.leaves()\n",
    "    leaves_length = len(leaves)\n",
    "    \n",
    "    for i in list(range(0,leaves_length)):\n",
    "        if list(tree.leaf_treeposition(i)) == position_index:\n",
    "            return i\n",
    "        else:\n",
    "            -1                "
   ]
  },
  {
   "cell_type": "markdown",
   "metadata": {},
   "source": [
    "1.5 Defining function to produce python tree structure from work files"
   ]
  },
  {
   "cell_type": "code",
   "execution_count": 5,
   "metadata": {
    "collapsed": true
   },
   "outputs": [],
   "source": [
    "def tree_preprossing(tree):\n",
    "    \n",
    "    tree = ParentedTree.fromstring(tree)\n",
    "    for sub in reversed(list(tree.subtrees())):\n",
    "        if sub.height() == 2 and sub[0].startswith(\"*\"):\n",
    "            parent = sub.parent()\n",
    "            while parent and len(parent) == 1:\n",
    "                sub = parent\n",
    "                parent = sub.parent()\n",
    "            del tree[sub.treeposition()]\n",
    "            \n",
    "    for sub in (list(tree.subtrees())):\n",
    "        _=sub.parent()\n",
    "        try:\n",
    "            if ((_.label() == 'TOP') | (_.label() == 'ROOT') | (_.label() == '')):\n",
    "                tree = sub\n",
    "        except:\n",
    "            1  \n",
    "    return tree        "
   ]
  },
  {
   "cell_type": "markdown",
   "metadata": {},
   "source": [
    "1.6 Defining function to give stats for tree node: label - starting position - ending position"
   ]
  },
  {
   "cell_type": "code",
   "execution_count": 6,
   "metadata": {
    "collapsed": true
   },
   "outputs": [],
   "source": [
    "def tree_parser_stats(tree):\n",
    "    \n",
    "    tree_stats = []\n",
    "    for sub in (list(tree.subtrees())):\n",
    "        if sub.height() != 2:\n",
    "\n",
    "            label = sub.label()\n",
    "\n",
    "            leaves = sub.leaves()\n",
    "            leaves_length = len(leaves)\n",
    "\n",
    "            left_position_index, right_position_index = local_indexer(sub, tree, list(sub.leaf_treeposition(0)), list(sub.leaf_treeposition(leaves_length-1)))\n",
    "            left_position = local_positioner(tree, left_position_index)\n",
    "            right_position = local_positioner(tree, right_position_index)\n",
    "\n",
    "            tree_stats.append(list((label, left_position, right_position)))\n",
    "            \n",
    "    return tree_stats"
   ]
  },
  {
   "cell_type": "markdown",
   "metadata": {},
   "source": [
    "1.7 Defining sub-function which will be used in defining performance matric function, matrices, precision-recall-F1score"
   ]
  },
  {
   "cell_type": "code",
   "execution_count": 7,
   "metadata": {
    "collapsed": true
   },
   "outputs": [],
   "source": [
    "def local_performance(gold_tree, parser_tree):\n",
    "    \n",
    "    gold_tree = tree_preprossing(gold_tree)\n",
    "    parser_tree = tree_preprossing(parser_tree)\n",
    "    \n",
    "    gold_stats = tree_parser_stats(gold_tree)\n",
    "    parser_stats = tree_parser_stats(parser_tree)\n",
    "    \n",
    "    gold_size = len(gold_stats)\n",
    "    parser_size = len(parser_stats)\n",
    "    \n",
    "    correct_label = 0\n",
    "    correct_unlabel = 0\n",
    "    \n",
    "    accuracy_by_label = []\n",
    "    accuracy_by_constituent = []\n",
    "    \n",
    "    temp_stats = parser_stats[:]\n",
    "    temp_stats2 = parser_stats[:]\n",
    "    \n",
    "    for gold_parse_vector_position in list(range(0,len(gold_stats))):\n",
    "        for parser_parse_vector_position in list(range(0,len(temp_stats))):\n",
    "            if ((gold_stats[gold_parse_vector_position][1] == temp_stats[parser_parse_vector_position][1]) & (gold_stats[gold_parse_vector_position][2] == temp_stats[parser_parse_vector_position][2])):\n",
    "                correct_unlabel = correct_unlabel + 1\n",
    "                temp_stats.remove(temp_stats[parser_parse_vector_position])\n",
    "                break\n",
    "    \n",
    "    for gold_parse_vector_position in list(range(0,len(gold_stats))):\n",
    "        for parser_parse_vector_position in list(range(0,len(temp_stats2))):\n",
    "            if gold_stats[gold_parse_vector_position] == temp_stats2[parser_parse_vector_position]:\n",
    "                correct_label = correct_label + 1\n",
    "                temp_stats2.remove(temp_stats2[parser_parse_vector_position])\n",
    "                accuracy_by_label.append(list((gold_stats[gold_parse_vector_position][0], 1)))\n",
    "                accuracy_by_constituent.append(list((gold_stats[gold_parse_vector_position][1], gold_stats[gold_parse_vector_position][2], 1)))\n",
    "                break    \n",
    "    return correct_label, correct_unlabel, gold_size, parser_size, accuracy_by_label, accuracy_by_constituent"
   ]
  },
  {
   "cell_type": "markdown",
   "metadata": {},
   "source": [
    "1.8 Defining function to evaluate metrices on whole dataset"
   ]
  },
  {
   "cell_type": "code",
   "execution_count": 8,
   "metadata": {
    "collapsed": true
   },
   "outputs": [],
   "source": [
    "def global_performance(gold_forest, parser_forest): \n",
    "    correct_label = 0\n",
    "    correct_unlabel = 0\n",
    "    gold_size = 0\n",
    "    parser_size = 0\n",
    "    accuracy_by_label = []\n",
    "    accuracy_by_constituent = []\n",
    "\n",
    "    for tree_position in list(range(0, len(gold_forest))):\n",
    "        try:\n",
    "            cl, cu, gz, pz, al, ac = local_performance(gold_forest[tree_position], parser_forest[tree_position])\n",
    "            correct_label = correct_label + cl\n",
    "            correct_unlabel = correct_unlabel + cu\n",
    "            gold_size = gold_size + gz\n",
    "            parser_size = parser_size + pz\n",
    "            accuracy_by_label.append(al)\n",
    "            accuracy_by_constituent.append(ac)\n",
    "        except:\n",
    "            correct_label = correct_label\n",
    "            correct_unlabel = correct_unlabel\n",
    "            gold_size = gold_size\n",
    "            parser_size = parser_size\n",
    "            accuracy_by_label = accuracy_by_label\n",
    "            accuracy_by_constituent\n",
    "\n",
    "    return correct_label, correct_unlabel, gold_size, parser_size, accuracy_by_label, accuracy_by_constituent"
   ]
  },
  {
   "cell_type": "markdown",
   "metadata": {},
   "source": [
    "1.9 Evalb core function"
   ]
  },
  {
   "cell_type": "code",
   "execution_count": 9,
   "metadata": {
    "collapsed": true
   },
   "outputs": [],
   "source": [
    "def evalb_reimplement(gold_forest, parser_forest):\n",
    "    \n",
    "    correct_label, correct_unlabel, gold_size, parser_size, accuracy_by_label, accuracy_by_constituent = global_performance(gold_forest, parser_forest) \n",
    "    \n",
    "    labelled_precision = round((correct_label/parser_size)*100,1)\n",
    "    labelled_recall = round((correct_label/gold_size)*100,1)\n",
    "    labelled_F1score = round((2*labelled_precision*labelled_recall)/(labelled_precision+labelled_recall),1)\n",
    "\n",
    "    unlabelled_precision = round((correct_unlabel/parser_size)*100,1)\n",
    "    unlabelled_recall = round((correct_unlabel/gold_size)*100,1)\n",
    "    unlabelled_F1score = round((2*unlabelled_precision*unlabelled_recall)/(unlabelled_precision+unlabelled_recall),1)\n",
    "    \n",
    "    print('labelled_precision: ',labelled_precision, '\\nlabelled_recall: ', labelled_recall, '\\nlabelled_F1score: ',labelled_F1score, '\\n\\nunlabelled_precision: ', unlabelled_precision, '\\nunlabelled_recall: ',unlabelled_recall, '\\nunlabelled_F1score: ', unlabelled_F1score) "
   ]
  },
  {
   "cell_type": "markdown",
   "metadata": {},
   "source": [
    "1.10 Evaluating performance of barkely parser via evalv script"
   ]
  },
  {
   "cell_type": "code",
   "execution_count": 10,
   "metadata": {},
   "outputs": [
    {
     "name": "stdout",
     "output_type": "stream",
     "text": [
      "labelled_precision:  63.3 \n",
      "labelled_recall:  72.3 \n",
      "labelled_F1score:  67.5 \n",
      "\n",
      "unlabelled_precision:  64.3 \n",
      "unlabelled_recall:  73.5 \n",
      "unlabelled_F1score:  68.6\n"
     ]
    }
   ],
   "source": [
    "evalb_reimplement(gold_lines, barkely_lines)"
   ]
  },
  {
   "cell_type": "markdown",
   "metadata": {},
   "source": [
    "2.1 Implementing Stanford Parser"
   ]
  },
  {
   "cell_type": "code",
   "execution_count": null,
   "metadata": {
    "collapsed": true
   },
   "outputs": [],
   "source": [
    "# This script will implement stanford parser on test line and save the parsed result as pickle file\n",
    "# The stanford parser needs to be properly configured\n",
    "#-----------------------------------------------------------------------------------------\n",
    "\n",
    "# os.environ['STANFORD_PARSER'] = 'path for parser files of standord parser/'\n",
    "# os.environ['STANFORD_MODELS'] = 'path for models files of stanford parser/'\n",
    "\n",
    "# parser = stanford.StanfordParser(model_path=\"path for this file/englishPCFG.ser.gz\")\n",
    "\n",
    "# sentences = parser.raw_parse_sents(lines)\n",
    "\n",
    "# stanford_trees = []\n",
    "\n",
    "# for line in sentences:\n",
    "#     for word in line:\n",
    "#         stanford_trees.append(word)\n",
    "        \n",
    "# stanford_lines = []\n",
    "\n",
    "# for tree in stanford_trees:\n",
    "#     stanford_lines.append(str(tree))\n",
    "    \n",
    "# with open('stanford_lines.pickle', 'wb') as handle:\n",
    "#         pickle.dump(stanford_lines, handle)    "
   ]
  },
  {
   "cell_type": "markdown",
   "metadata": {},
   "source": [
    "2.2 Loading stanford parsed output"
   ]
  },
  {
   "cell_type": "code",
   "execution_count": 11,
   "metadata": {
    "collapsed": true
   },
   "outputs": [],
   "source": [
    "# Please make sure file stanford_lines.pickle is in same folder where this notebook is\n",
    "with open('stanford_lines.pickle', 'rb') as handle:\n",
    "    stanford_lines = pickle.load(handle)"
   ]
  },
  {
   "cell_type": "markdown",
   "metadata": {},
   "source": [
    "2.2 Evaluating performance of stanford parser via evalv script"
   ]
  },
  {
   "cell_type": "code",
   "execution_count": 12,
   "metadata": {},
   "outputs": [
    {
     "name": "stdout",
     "output_type": "stream",
     "text": [
      "labelled_precision:  60.4 \n",
      "labelled_recall:  68.5 \n",
      "labelled_F1score:  64.2 \n",
      "\n",
      "unlabelled_precision:  61.7 \n",
      "unlabelled_recall:  69.9 \n",
      "unlabelled_F1score:  65.5\n"
     ]
    }
   ],
   "source": [
    "evalb_reimplement(gold_lines, stanford_lines)"
   ]
  },
  {
   "cell_type": "markdown",
   "metadata": {},
   "source": [
    "2.3 Function to plot accuracy plots"
   ]
  },
  {
   "cell_type": "code",
   "execution_count": 13,
   "metadata": {
    "collapsed": true
   },
   "outputs": [],
   "source": [
    "def accuracy_plots(gold_forest, parser_forest):\n",
    "    \n",
    "    correct_label, correct_unlabel, gold_size, parser_size, accuracy_by_label, accuracy_by_constituent = global_performance(gold_forest, parser_forest)\n",
    "    \n",
    "    gold_forest_stats = []\n",
    "    \n",
    "    for gold_line_position in list(range(0, len(gold_lines))):\n",
    "        gold_tree = tree_preprossing(gold_lines[0])\n",
    "        gold_stats = tree_parser_stats(gold_tree) \n",
    "        gold_forest_stats.append(gold_stats)\n",
    "    \n",
    "    df_accuracy_by_label = pd.DataFrame()\n",
    "    \n",
    "    for label_position in list(range(0, len(accuracy_by_label))):\n",
    "        df = pd.DataFrame(accuracy_by_label[0])\n",
    "        df_accuracy_by_label = pd.concat([df_accuracy_by_label, df])\n",
    "    \n",
    "    df_accuracy_by_label.rename(columns= { 0: 'label', 1: 'count'}, inplace=True)\n",
    "    df_accuracy_by_label = pd.DataFrame({ 'count': df_accuracy_by_label.groupby(['label'])['count'].sum()\n",
    "                     }).reset_index()\n",
    "    \n",
    "    df_gold = pd.DataFrame()\n",
    "\n",
    "    for gold_tree_position in list(range(0, len(gold_forest_stats))):\n",
    "        df = pd.DataFrame(gold_forest_stats[0])\n",
    "        df_gold = pd.concat([df_gold, df])\n",
    "\n",
    "    df_gold['size'] = df[2]-df[1]\n",
    "    df_gold['count_head'] = 1\n",
    "    df_gold.drop([1,2], axis=1, inplace=True)\n",
    "    df_gold.rename(columns= { 0: 'label'}, inplace=True)\n",
    "\n",
    "    df_gold_label = pd.DataFrame({ 'count_head': df_gold.groupby(['label'])['count_head'].sum()\n",
    "                     }).reset_index()\n",
    "    df_gold_size = pd.DataFrame({ 'count_head': df_gold.groupby(['size'])['count_head'].sum()\n",
    "                     }).reset_index()\n",
    "    \n",
    "    df_accuracy_by_size = pd.DataFrame()\n",
    "    \n",
    "    for constituent_position in list(range(0, len(accuracy_by_constituent))):\n",
    "        df = pd.DataFrame(accuracy_by_constituent[0])\n",
    "        df_accuracy_by_size = pd.concat([df_accuracy_by_size, df])\n",
    "\n",
    "    df_accuracy_by_size['size'] = df[1]-df[0]\n",
    "    df_accuracy_by_size.rename(columns= { 2: 'count'}, inplace=True)\n",
    "    df_accuracy_by_size.drop([0,1], axis=1, inplace=True)\n",
    "\n",
    "    df_accuracy_by_size = pd.DataFrame({ 'count': df_accuracy_by_size.groupby(['size'])['count'].sum()\n",
    "                     }).reset_index()\n",
    "    \n",
    "    df_accuracy_by_label = pd.merge(df_gold_label, df_accuracy_by_label, how='left')\n",
    "    df_accuracy_by_size = pd.merge(df_gold_size, df_accuracy_by_size, how='left')\n",
    "\n",
    "    df_accuracy_by_label.fillna(0, inplace=True)\n",
    "    df_accuracy_by_size.fillna(0, inplace=True)\n",
    "    \n",
    "    df_accuracy_by_label['accuracy'] = round((df_accuracy_by_label['count']/df_accuracy_by_label['count_head'])*100)\n",
    "    df_accuracy_by_size['accuracy'] = round((df_accuracy_by_size['count']/df_accuracy_by_size['count_head'])*100)\n",
    "    \n",
    "    fig = plt.figure(figsize=(10, 4)) \n",
    "    gs = gridspec.GridSpec(1, 2) \n",
    "\n",
    "    plt1 = plt.subplot(gs[0])\n",
    "    plt1.bar([0,1,2,3,4],df_accuracy_by_label['accuracy'])\n",
    "    plt1.set_ylabel('Accuracy by Label')\n",
    "    plt1.set_xticklabels(['NP', 'NP', 'PP', 'S', 'SBAR', 'VP'])\n",
    "    plt1.set_xlabel('Label')\n",
    "\n",
    "    plt2 = plt.subplot(gs[1])\n",
    "    plt2.plot(df_accuracy_by_size['size'], df_accuracy_by_size['accuracy'])\n",
    "    plt2.set_ylabel('Accuracy by Constituent Size')\n",
    "    plt2.set_xlabel('Constituent Size')"
   ]
  },
  {
   "cell_type": "markdown",
   "metadata": {},
   "source": [
    "2.4 Accuracy plots for Berkeley Parser "
   ]
  },
  {
   "cell_type": "code",
   "execution_count": 14,
   "metadata": {
    "scrolled": true
   },
   "outputs": [
    {
     "data": {
      "image/png": "[encoded data removed]",
      "text/plain": [
       "<matplotlib.figure.Figure at 0x1079899b0>"
      ]
     },
     "metadata": {},
     "output_type": "display_data"
    }
   ],
   "source": [
    "accuracy_plots(gold_lines, barkely_lines)"
   ]
  },
  {
   "cell_type": "markdown",
   "metadata": {},
   "source": [
    "2.5 Accuracy plots for Stanford Parser "
   ]
  },
  {
   "cell_type": "code",
   "execution_count": 15,
   "metadata": {
    "scrolled": true
   },
   "outputs": [
    {
     "data": {
      "image/png": "[encoded data removed]",
      "text/plain": [
       "<matplotlib.figure.Figure at 0x11498d7b8>"
      ]
     },
     "metadata": {},
     "output_type": "display_data"
    }
   ],
   "source": [
    "accuracy_plots(gold_lines, stanford_lines)"
   ]
  },
  {
   "cell_type": "code",
   "execution_count": 1,
   "metadata": {
    "collapsed": true
   },
   "outputs": [],
   "source": [
    "# Dependency Structure"
   ]
  },
  {
   "cell_type": "code",
   "execution_count": null,
   "metadata": {
    "collapsed": true
   },
   "outputs": [],
   "source": []
  }
 ],
 "metadata": {
  "kernelspec": {
   "display_name": "Python 3",
   "language": "python",
   "name": "python3"
  },
  "language_info": {
   "codemirror_mode": {
    "name": "ipython",
    "version": 3
   },
   "file_extension": ".py",
   "mimetype": "text/x-python",
   "name": "python",
   "nbconvert_exporter": "python",
   "pygments_lexer": "ipython3",
   "version": "3.6.3"
  }
 },
 "nbformat": 4,
 "nbformat_minor": 1
}
